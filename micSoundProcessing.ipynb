{
 "cells": [
  {
   "cell_type": "code",
   "execution_count": null,
   "metadata": {},
   "outputs": [],
   "source": [
    "    filename = \"your-path\"\n",
    "    #loading data if sound in flac\n",
    "    #otherwise use\n",
    "    #data, samplerate = librosa.load(filename)\n",
    "    data, samplerate = sf.read(filename)\n",
    "    #extracting features\n",
    "    S = librosa.feature.melspectrogram(data, sr=samplerate, n_mels=128)\n",
    "    log_S = librosa.power_to_db(S, ref=np.max)\n",
    "    mfcc = librosa.feature.mfcc(S=log_S, n_mfcc=13)\n",
    "    #outputfile\n",
    "    mfcc_delta2 = librosa.feature.delta(mfcc, order=2)"
   ]
  }
 ],
 "metadata": {
  "kernelspec": {
   "display_name": "Python 3",
   "language": "python",
   "name": "python3"
  },
  "language_info": {
   "codemirror_mode": {
    "name": "ipython",
    "version": 3
   },
   "file_extension": ".py",
   "mimetype": "text/x-python",
   "name": "python",
   "nbconvert_exporter": "python",
   "pygments_lexer": "ipython3",
   "version": "3.7.1"
  }
 },
 "nbformat": 4,
 "nbformat_minor": 2
}
